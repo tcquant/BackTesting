{
 "cells": [
  {
   "cell_type": "code",
   "metadata": {
    "ExecuteTime": {
     "end_time": "2025-03-07T04:43:25.936420Z",
     "start_time": "2025-03-07T04:43:25.653196Z"
    }
   },
   "source": [
    "import numpy as np \n",
    "import pandas as pd \n",
    "import psycopg2\n",
    "conn = psycopg2.connect(dbname=\"tanamay_database\",user=\"tanamay\",password=\"tanamay\",host=\"192.168.2.23\",port=\"5432\"  )\n",
    "cursor = conn.cursor()\n",
    "import plotly.graph_objects as go\n",
    "import plotly.io as pio"
   ],
   "outputs": [],
   "execution_count": 17
  },
  {
   "cell_type": "markdown",
   "metadata": {},
   "source": [
    "296-BANKNIFTY_M1\n",
    "297-NIFTY_M1\n",
    "298-NIFTY_W1\n",
    "299-FINNIFTY_M1\n",
    "300-MIDCPNIFTY_M1"
   ]
  },
  {
   "cell_type": "code",
   "metadata": {
    "ExecuteTime": {
     "end_time": "2025-03-07T04:43:27.699872Z",
     "start_time": "2025-03-07T04:43:27.690895Z"
    }
   },
   "source": [
    "def Fetcher(uid, cursor):\n",
    "    query = '''\n",
    "        SELECT *\n",
    "        FROM public.table1\n",
    "        WHERE uid = %s\n",
    "        AND \"key\" = 'StdlSeries';\n",
    "    '''\n",
    "    cursor.execute(query, (uid,)) \n",
    "    rows = cursor.fetchall() \n",
    "    df = pd.DataFrame(rows, columns=[desc[0] for desc in cursor.description])\n",
    "    return df\n"
   ],
   "outputs": [],
   "execution_count": 18
  },
  {
   "metadata": {
    "ExecuteTime": {
     "end_time": "2025-03-07T04:43:28.940952Z",
     "start_time": "2025-03-07T04:43:28.935947Z"
    }
   },
   "cell_type": "code",
   "source": [
    "query1 = '''\n",
    "    SELECT distinct symbol\n",
    "    FROM public.ohlcv_cm_per_minute\n",
    "    '''\n",
    "\n"
   ],
   "outputs": [],
   "execution_count": 19
  },
  {
   "cell_type": "code",
   "metadata": {
    "ExecuteTime": {
     "end_time": "2025-03-07T11:22:39.524383Z",
     "start_time": "2025-03-07T11:22:39.505362Z"
    }
   },
   "source": [
    "df = Fetcher('9263',cursor)\n",
    "df.to_csv('7-3-2024.csv')"
   ],
   "outputs": [],
   "execution_count": 23
  },
  {
   "cell_type": "code",
   "metadata": {
    "ExecuteTime": {
     "end_time": "2025-03-07T11:22:41.655139Z",
     "start_time": "2025-03-07T11:22:41.643165Z"
    }
   },
   "source": [
    "data = df.loc[df['sid'] == 298, 'value'].values[0]  # Extract the first matching value\n",
    "data = data.split('|')[1].split(',')  # Split the string based on '|', then ','\n",
    "data = [float(x) for x in data]  # Convert to float\n",
    "data2 = [(10000/x) for x in data]  # Convert to float\n",
    "\n",
    "diff  = [0 if i< 20 else data[i]-data[i-20] for i in range(len(data))]\n"
   ],
   "outputs": [],
   "execution_count": 24
  },
  {
   "cell_type": "code",
   "metadata": {
    "ExecuteTime": {
     "end_time": "2025-03-07T11:22:43.392634Z",
     "start_time": "2025-03-07T11:22:43.245512Z"
    }
   },
   "source": [
    "import plotly.graph_objects as go\n",
    "\n",
    "fig = go.Figure()\n",
    "\n",
    "# First data series (Primary Y-axis)\n",
    "fig.add_trace(go.Scatter(\n",
    "    y=diff, \n",
    "    mode='lines', \n",
    "    name='Slope', \n",
    "    yaxis='y1'  # Explicitly assign to primary y-axis\n",
    "))\n",
    "\n",
    "# Second data series (Secondary Y-axis)\n",
    "fig.add_trace(go.Scatter(\n",
    "    y=data, \n",
    "    mode='lines', \n",
    "    name='Stdl', \n",
    "    yaxis='y2'  # Explicitly assign to secondary y-axis\n",
    "))\n",
    "\n",
    "# Second data series (Secondary Y-axis)\n",
    "fig.add_trace(go.Scatter(\n",
    "    y=data2, \n",
    "    mode='lines', \n",
    "    name='Series 3', \n",
    "    yaxis='y3'  # Explicitly assign to secondary y-axis\n",
    "))\n",
    "\n",
    "# Layout settings for multiple y-axes\n",
    "fig.update_layout(\n",
    "    xaxis=dict(title=\"X-axis\"),  # Define the X-axis title\n",
    "    yaxis=dict(\n",
    "        title=\"Primary Scale\", \n",
    "        side=\"left\",\n",
    "        showgrid=True  # Keep grid visible for clarity\n",
    "    ),\n",
    "    yaxis2=dict(\n",
    "        title=\"Secondary Scale\", \n",
    "        overlaying=\"y\",  # Ensure it's on the same plot\n",
    "        side=\"right\", \n",
    "        showgrid=False  # Hide grid for better readability\n",
    "    ),\n",
    "    yaxis3=dict(\n",
    "        title=\"Tursary Scale\", \n",
    "        overlaying=\"y\",  # Ensure it's on the same plot\n",
    "        side=\"right\", \n",
    "        showgrid=False  # Hide grid for better readability\n",
    "    ),\n",
    "    title=\"Multiple Y-Axes Example\",\n",
    "    legend=dict(x=0.1, y=1.1),  # Ensure legend placement is clear\n",
    "    hovermode='x unified'\n",
    ")\n",
    "\n",
    "# **Save to HTML**\n",
    "pio.write_html(fig, \"plot.html\")  # Saves as \"plot.html\"\n"
   ],
   "outputs": [],
   "execution_count": 25
  }
 ],
 "metadata": {
  "kernelspec": {
   "display_name": "Python 3",
   "language": "python",
   "name": "python3"
  },
  "language_info": {
   "codemirror_mode": {
    "name": "ipython",
    "version": 3
   },
   "file_extension": ".py",
   "mimetype": "text/x-python",
   "name": "python",
   "nbconvert_exporter": "python",
   "pygments_lexer": "ipython3",
   "version": "3.12.1"
  }
 },
 "nbformat": 4,
 "nbformat_minor": 2
}
