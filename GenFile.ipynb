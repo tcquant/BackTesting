{
 "cells": [
  {
   "cell_type": "code",
   "id": "initial_id",
   "metadata": {
    "collapsed": true,
    "ExecuteTime": {
     "end_time": "2024-11-19T09:48:38.012824Z",
     "start_time": "2024-11-19T09:48:37.998815Z"
    }
   },
   "source": [
    "\n",
    "def GenGetAttributes(Vars):\n",
    "    for tp in Vars:\n",
    "        if tp[1]=='s':\n",
    "            print(f\"Util.LoadUpdatesString(GetAttribute,LogInfo,\\\"{tp[0]}\\\",null,{tp[0]},null,out {tp[0]});\")\n",
    "        elif tp[1]=='i':\n",
    "            print(f\"Util.LoadUpdatesInt(GetAttributeDecimal,LogInfo,\\\"{tp[0]}\\\",0,{tp[0]},-1,out {tp[0]});\")\n",
    "        elif tp[1]=='d':\n",
    "            print(f\"Util.LoadUpdatesDecimal(base.GetAttributeDecimal,LogInfo,\\\"{tp[0]}\\\",10,{tp[0]},0,out {tp[0]});\")\n",
    "    print()   \n",
    "    \n",
    "def OnPresentAttributes(Vars):\n",
    "    for tp in Vars:\n",
    "        if tp[1]=='s':\n",
    "            print(f'''result = AddAttributeString(\\\"{tp[0]}\\\", \\\"\\\", true, true);\n",
    "            if (result.Result == ExecutionResultType.VALIDATION)\n",
    "                LogWarn($\"Error: {{result.ExecutionMessage}}\", true);\n",
    "            ''')\n",
    "        elif tp[1]=='i' or tp[1]=='d':\n",
    "            print(f'''result = AddAttributeDecimalMinMax(\\\"{tp[0]}\\\",0 , true, true);\n",
    "            if (result.Result == ExecutionResultType.VALIDATION)\n",
    "                LogWarn($\"Error: {{result.ExecutionMessage}}\", true);\n",
    "            ''')\n",
    "    print()\n",
    "            \n",
    "d = 'd'\n",
    "s = 's'\n",
    "    \n"
   ],
   "outputs": [],
   "execution_count": 2
  },
  {
   "metadata": {
    "ExecuteTime": {
     "end_time": "2024-11-19T09:48:39.982214Z",
     "start_time": "2024-11-19T09:48:39.973029Z"
    }
   },
   "cell_type": "code",
   "source": [
    "v = [('EoDTime','s'),('DeltaRange','d'),('DeltaInitial','d'),('DeltaUB','d'),('EntryMargin','d'),('OptionExpiry','s')]\n",
    "v = [('EntryTime',s),('ProfitCap',d),('StopLoss',d),('Rise',d),('Drop',d),('DeltaInitial',d)]\n",
    "GenGetAttributes(v)\n",
    "OnPresentAttributes(v)"
   ],
   "id": "656ccc05431d5d97",
   "outputs": [
    {
     "name": "stdout",
     "output_type": "stream",
     "text": [
      "Util.LoadUpdatesString(GetAttribute,LogInfo,\"EntryTime\",null,EntryTime,null,out EntryTime);\n",
      "Util.LoadUpdatesDecimal(base.GetAttributeDecimal,LogInfo,\"ProfitCap\",10,ProfitCap,0,out ProfitCap);\n",
      "Util.LoadUpdatesDecimal(base.GetAttributeDecimal,LogInfo,\"StopLoss\",10,StopLoss,0,out StopLoss);\n",
      "Util.LoadUpdatesDecimal(base.GetAttributeDecimal,LogInfo,\"Rise\",10,Rise,0,out Rise);\n",
      "Util.LoadUpdatesDecimal(base.GetAttributeDecimal,LogInfo,\"Drop\",10,Drop,0,out Drop);\n",
      "Util.LoadUpdatesDecimal(base.GetAttributeDecimal,LogInfo,\"DeltaInitial\",10,DeltaInitial,0,out DeltaInitial);\n",
      "\n",
      "result = AddAttributeString(\"EntryTime\", \"\", true, true);\n",
      "            if (result.Result == ExecutionResultType.VALIDATION)\n",
      "                LogWarn($\"Error: {result.ExecutionMessage}\", true);\n",
      "            \n",
      "result = AddAttributeDecimalMinMax(\"ProfitCap\",0 , true, true);\n",
      "            if (result.Result == ExecutionResultType.VALIDATION)\n",
      "                LogWarn($\"Error: {result.ExecutionMessage}\", true);\n",
      "            \n",
      "result = AddAttributeDecimalMinMax(\"StopLoss\",0 , true, true);\n",
      "            if (result.Result == ExecutionResultType.VALIDATION)\n",
      "                LogWarn($\"Error: {result.ExecutionMessage}\", true);\n",
      "            \n",
      "result = AddAttributeDecimalMinMax(\"Rise\",0 , true, true);\n",
      "            if (result.Result == ExecutionResultType.VALIDATION)\n",
      "                LogWarn($\"Error: {result.ExecutionMessage}\", true);\n",
      "            \n",
      "result = AddAttributeDecimalMinMax(\"Drop\",0 , true, true);\n",
      "            if (result.Result == ExecutionResultType.VALIDATION)\n",
      "                LogWarn($\"Error: {result.ExecutionMessage}\", true);\n",
      "            \n",
      "result = AddAttributeDecimalMinMax(\"DeltaInitial\",0 , true, true);\n",
      "            if (result.Result == ExecutionResultType.VALIDATION)\n",
      "                LogWarn($\"Error: {result.ExecutionMessage}\", true);\n",
      "            \n",
      "\n"
     ]
    }
   ],
   "execution_count": 3
  },
  {
   "metadata": {
    "ExecuteTime": {
     "end_time": "2024-11-19T09:48:46.007340Z",
     "start_time": "2024-11-19T09:48:44.362957Z"
    }
   },
   "cell_type": "code",
   "source": [
    "import re\n",
    "\n",
    "def extract_main_logs(input_file, output_file):\n",
    "    \"\"\"\n",
    "    This function reads the log file and extracts key trading events and relevant information,\n",
    "    and then writes it to a structured text file.\n",
    "    \"\"\"\n",
    "    with open(input_file, 'r') as log_file, open(output_file, 'w') as structured_txt:\n",
    "        # Write header for structured file\n",
    "        structured_txt.write(f\"{'Timestamp':<25} | {'Trade Info':<50} | {'Details'}\\n\")\n",
    "        structured_txt.write(\"-\" * 100 + \"\\n\")\n",
    "\n",
    "        # Iterate through each line in the log file\n",
    "        for line in log_file:\n",
    "            # Match a log line based on patterns that typically show important events (adjust as necessary)\n",
    "            trade_log_pattern = r'(?P<timestamp>\\d{4}-\\d{2}-\\d{2} \\d{2}:\\d{2}:\\d{2})\\s+-\\s+(?P<action>[A-Za-z\\s]+):\\s+(?P<details>.+)'\n",
    "            match = re.match(trade_log_pattern, line)\n",
    "\n",
    "            if match:\n",
    "                # Extract structured information\n",
    "                timestamp = match.group('timestamp')\n",
    "                action = match.group('action').strip()\n",
    "                details = match.group('details').strip()\n",
    "\n",
    "                # Write the structured information to the output file\n",
    "                structured_txt.write(f\"{timestamp:<25} | {action:<50} | {details}\\n\")\n",
    "\n",
    "            else:\n",
    "                # If the line does not match, it may contain additional important details to be logged\n",
    "                structured_txt.write(f\"Unstructured log: {line}\\n\")\n",
    "\n",
    "input_log_file = 'M61_MFT_24Sep2024.log'  # Path to your input log file\n",
    "output_structured_txt = 'structured_log.txt'  # Path to output structured file\n",
    "\n",
    "\n",
    "extract_main_logs(input_log_file, output_structured_txt)\n",
    "\n"
   ],
   "id": "cf86336646f41416",
   "outputs": [
    {
     "ename": "FileNotFoundError",
     "evalue": "[Errno 2] No such file or directory: 'M61_MFT_24Sep2024.log'",
     "output_type": "error",
     "traceback": [
      "\u001B[1;31m---------------------------------------------------------------------------\u001B[0m",
      "\u001B[1;31mFileNotFoundError\u001B[0m                         Traceback (most recent call last)",
      "Cell \u001B[1;32mIn[4], line 36\u001B[0m\n\u001B[0;32m     32\u001B[0m input_log_file \u001B[38;5;241m=\u001B[39m \u001B[38;5;124m'\u001B[39m\u001B[38;5;124mM61_MFT_24Sep2024.log\u001B[39m\u001B[38;5;124m'\u001B[39m  \u001B[38;5;66;03m# Path to your input log file\u001B[39;00m\n\u001B[0;32m     33\u001B[0m output_structured_txt \u001B[38;5;241m=\u001B[39m \u001B[38;5;124m'\u001B[39m\u001B[38;5;124mstructured_log.txt\u001B[39m\u001B[38;5;124m'\u001B[39m  \u001B[38;5;66;03m# Path to output structured file\u001B[39;00m\n\u001B[1;32m---> 36\u001B[0m extract_main_logs(input_log_file, output_structured_txt)\n",
      "Cell \u001B[1;32mIn[4], line 8\u001B[0m, in \u001B[0;36mextract_main_logs\u001B[1;34m(input_file, output_file)\u001B[0m\n\u001B[0;32m      3\u001B[0m \u001B[38;5;28;01mdef\u001B[39;00m \u001B[38;5;21mextract_main_logs\u001B[39m(input_file, output_file):\n\u001B[0;32m      4\u001B[0m \u001B[38;5;250m    \u001B[39m\u001B[38;5;124;03m\"\"\"\u001B[39;00m\n\u001B[0;32m      5\u001B[0m \u001B[38;5;124;03m    This function reads the log file and extracts key trading events and relevant information,\u001B[39;00m\n\u001B[0;32m      6\u001B[0m \u001B[38;5;124;03m    and then writes it to a structured text file.\u001B[39;00m\n\u001B[0;32m      7\u001B[0m \u001B[38;5;124;03m    \"\"\"\u001B[39;00m\n\u001B[1;32m----> 8\u001B[0m     \u001B[38;5;28;01mwith\u001B[39;00m \u001B[38;5;28mopen\u001B[39m(input_file, \u001B[38;5;124m'\u001B[39m\u001B[38;5;124mr\u001B[39m\u001B[38;5;124m'\u001B[39m) \u001B[38;5;28;01mas\u001B[39;00m log_file, \u001B[38;5;28mopen\u001B[39m(output_file, \u001B[38;5;124m'\u001B[39m\u001B[38;5;124mw\u001B[39m\u001B[38;5;124m'\u001B[39m) \u001B[38;5;28;01mas\u001B[39;00m structured_txt:\n\u001B[0;32m      9\u001B[0m         \u001B[38;5;66;03m# Write header for structured file\u001B[39;00m\n\u001B[0;32m     10\u001B[0m         structured_txt\u001B[38;5;241m.\u001B[39mwrite(\u001B[38;5;124mf\u001B[39m\u001B[38;5;124m\"\u001B[39m\u001B[38;5;132;01m{\u001B[39;00m\u001B[38;5;124m'\u001B[39m\u001B[38;5;124mTimestamp\u001B[39m\u001B[38;5;124m'\u001B[39m\u001B[38;5;132;01m:\u001B[39;00m\u001B[38;5;124m<25\u001B[39m\u001B[38;5;132;01m}\u001B[39;00m\u001B[38;5;124m | \u001B[39m\u001B[38;5;132;01m{\u001B[39;00m\u001B[38;5;124m'\u001B[39m\u001B[38;5;124mTrade Info\u001B[39m\u001B[38;5;124m'\u001B[39m\u001B[38;5;132;01m:\u001B[39;00m\u001B[38;5;124m<50\u001B[39m\u001B[38;5;132;01m}\u001B[39;00m\u001B[38;5;124m | \u001B[39m\u001B[38;5;132;01m{\u001B[39;00m\u001B[38;5;124m'\u001B[39m\u001B[38;5;124mDetails\u001B[39m\u001B[38;5;124m'\u001B[39m\u001B[38;5;132;01m}\u001B[39;00m\u001B[38;5;130;01m\\n\u001B[39;00m\u001B[38;5;124m\"\u001B[39m)\n\u001B[0;32m     11\u001B[0m         structured_txt\u001B[38;5;241m.\u001B[39mwrite(\u001B[38;5;124m\"\u001B[39m\u001B[38;5;124m-\u001B[39m\u001B[38;5;124m\"\u001B[39m \u001B[38;5;241m*\u001B[39m \u001B[38;5;241m100\u001B[39m \u001B[38;5;241m+\u001B[39m \u001B[38;5;124m\"\u001B[39m\u001B[38;5;130;01m\\n\u001B[39;00m\u001B[38;5;124m\"\u001B[39m)\n",
      "File \u001B[1;32mC:\\ProgramData\\anaconda3\\Lib\\site-packages\\IPython\\core\\interactiveshell.py:324\u001B[0m, in \u001B[0;36m_modified_open\u001B[1;34m(file, *args, **kwargs)\u001B[0m\n\u001B[0;32m    317\u001B[0m \u001B[38;5;28;01mif\u001B[39;00m file \u001B[38;5;129;01min\u001B[39;00m {\u001B[38;5;241m0\u001B[39m, \u001B[38;5;241m1\u001B[39m, \u001B[38;5;241m2\u001B[39m}:\n\u001B[0;32m    318\u001B[0m     \u001B[38;5;28;01mraise\u001B[39;00m \u001B[38;5;167;01mValueError\u001B[39;00m(\n\u001B[0;32m    319\u001B[0m         \u001B[38;5;124mf\u001B[39m\u001B[38;5;124m\"\u001B[39m\u001B[38;5;124mIPython won\u001B[39m\u001B[38;5;124m'\u001B[39m\u001B[38;5;124mt let you open fd=\u001B[39m\u001B[38;5;132;01m{\u001B[39;00mfile\u001B[38;5;132;01m}\u001B[39;00m\u001B[38;5;124m by default \u001B[39m\u001B[38;5;124m\"\u001B[39m\n\u001B[0;32m    320\u001B[0m         \u001B[38;5;124m\"\u001B[39m\u001B[38;5;124mas it is likely to crash IPython. If you know what you are doing, \u001B[39m\u001B[38;5;124m\"\u001B[39m\n\u001B[0;32m    321\u001B[0m         \u001B[38;5;124m\"\u001B[39m\u001B[38;5;124myou can use builtins\u001B[39m\u001B[38;5;124m'\u001B[39m\u001B[38;5;124m open.\u001B[39m\u001B[38;5;124m\"\u001B[39m\n\u001B[0;32m    322\u001B[0m     )\n\u001B[1;32m--> 324\u001B[0m \u001B[38;5;28;01mreturn\u001B[39;00m io_open(file, \u001B[38;5;241m*\u001B[39margs, \u001B[38;5;241m*\u001B[39m\u001B[38;5;241m*\u001B[39mkwargs)\n",
      "\u001B[1;31mFileNotFoundError\u001B[0m: [Errno 2] No such file or directory: 'M61_MFT_24Sep2024.log'"
     ]
    }
   ],
   "execution_count": 4
  }
 ],
 "metadata": {
  "kernelspec": {
   "display_name": "Python 3",
   "language": "python",
   "name": "python3"
  },
  "language_info": {
   "codemirror_mode": {
    "name": "ipython",
    "version": 2
   },
   "file_extension": ".py",
   "mimetype": "text/x-python",
   "name": "python",
   "nbconvert_exporter": "python",
   "pygments_lexer": "ipython2",
   "version": "2.7.6"
  }
 },
 "nbformat": 4,
 "nbformat_minor": 5
}
