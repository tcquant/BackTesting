{
 "cells": [
  {
   "cell_type": "code",
   "execution_count": 2,
   "id": "initial_id",
   "metadata": {
    "ExecuteTime": {
     "end_time": "2024-11-04T06:48:49.066572Z",
     "start_time": "2024-11-04T06:48:46.686129Z"
    },
    "collapsed": true
   },
   "outputs": [],
   "source": [
    "import numpy as np\n",
    "import pandas as pd \n",
    "dt = 'date_timestamp'\n",
    "import psycopg2;import pandas as pd;import process as dp;import Functions as fn\n",
    "from pandas.errors import SettingWithCopyWarning;import GeeksCalculator as gk;import importlib;import warnings;importlib.reload(dp)\n",
    "importlib.reload(fn)\n",
    "importlib.reload(gk);warnings.simplefilter(action='ignore', category=FutureWarning);warnings.simplefilter(action='ignore', category=RuntimeWarning)\n",
    "warnings.simplefilter(action='ignore', category=SettingWithCopyWarning)\n",
    "conn = psycopg2.connect(dbname=\"qdap_test\",user=\"amt\",password=\"amt\",host=\"192.168.2.23\",port=\"5432\")\n",
    "cursor = conn.cursor()"
   ]
  },
  {
   "cell_type": "code",
   "execution_count": null,
   "id": "c62de0adec2ef443",
   "metadata": {
    "ExecuteTime": {
     "end_time": "2024-11-04T06:49:01.888176200Z",
     "start_time": "2024-11-04T06:48:51.804400Z"
    },
    "jupyter": {
     "is_executing": true
    }
   },
   "outputs": [
    {
     "name": "stdout",
     "output_type": "stream",
     "text": [
      "error on 2020-03-23 00:00:00\n",
      "error on 2020-05-28 00:00:00\n",
      "error on 2020-06-16 00:00:00\n",
      "error on 2020-06-24 00:00:00\n",
      "error on 2020-09-21 00:00:00\n"
     ]
    }
   ],
   "source": [
    "importlib.reload(dp); importlib.reload(fn)\n",
    "trades = None\n",
    "\n",
    "ranges = pd.date_range(start='2020-01-01', end='2024-06-30')\n",
    "arr = [10,15,20,25,30,35,40,45,50]\n",
    "for x in arr:\n",
    "        all_trades = {}\n",
    "        for d_t in ranges:\n",
    "            try:\n",
    "                futures = dp.FetchFuturesByDate(cursor,'BANKNIFTY',d_t)\n",
    "                if not futures.empty:\n",
    "                    options = dp.FetchOptionsByDateCsv('BANKNIFTY',d_t.date())\n",
    "                    gen_call, gen_put = options[options['opt_type'] == 'CE'], options[options['opt_type'] == 'PE']\n",
    "                    # call, put = dp.fetch_call_put_(options)\n",
    "                    # call.ffill(inplace=True) ; put.ffill(inplace=True)\n",
    "                    trades = fn.trades(futures,gen_call,gen_put,io=0,gap=x ,delta_range=0.1, DeltaUB = 0.5)\n",
    "                    all_trades[d_t.date()] = trades.copy()\n",
    "            except:\n",
    "                print(f\"error on {d_t}\")\n",
    "        print(f\"for Gap = {x}\")\n",
    "        stat = fn.stats_(all_trades)\n",
    "        stat = fn.stats_(all_trades)\n",
    "        for a in stat:\n",
    "            print(a[0],a[1])\n",
    "        print(f\"Net pnl for {x} = {print(sum(a[1] for a in stat))}\")\n",
    "        print(sum(a[1] for a in stat))\n",
    "    "
   ]
  },
  {
   "cell_type": "code",
   "execution_count": 42,
   "id": "83401a30bee471d8",
   "metadata": {
    "ExecuteTime": {
     "end_time": "2024-11-04T04:35:08.638613Z",
     "start_time": "2024-11-04T04:35:08.632260Z"
    }
   },
   "outputs": [],
   "source": [
    "ress = [a[1] for a in stat if a[1] != 0 and a[1] >= -1000]"
   ]
  },
  {
   "cell_type": "code",
   "execution_count": 44,
   "id": "30cd741c2cfdf2a6",
   "metadata": {
    "ExecuteTime": {
     "end_time": "2024-11-04T04:35:25.973655Z",
     "start_time": "2024-11-04T04:35:25.967310Z"
    }
   },
   "outputs": [
    {
     "name": "stdout",
     "output_type": "stream",
     "text": [
      "-745\n"
     ]
    }
   ],
   "source": [
    "print(sum(ress))"
   ]
  },
  {
   "cell_type": "code",
   "execution_count": 37,
   "id": "cfea7ebe32514cb",
   "metadata": {
    "ExecuteTime": {
     "end_time": "2024-11-04T04:32:37.848253Z",
     "start_time": "2024-11-04T04:32:37.840039Z"
    }
   },
   "outputs": [
    {
     "name": "stdout",
     "output_type": "stream",
     "text": [
      "146.34016209624582\n",
      "-6.4722474977252045\n"
     ]
    }
   ],
   "source": [
    "print(np.std([a[1] for a in stat]))\n",
    "\n",
    "print(np.mean([a[1] for a in stat]))\n"
   ]
  },
  {
   "cell_type": "code",
   "execution_count": 24,
   "id": "6ba1e30b384cf53c",
   "metadata": {
    "ExecuteTime": {
     "end_time": "2024-10-30T06:53:41.218634Z",
     "start_time": "2024-10-30T06:53:41.212375Z"
    }
   },
   "outputs": [
    {
     "name": "stdout",
     "output_type": "stream",
     "text": [
      "-579\n"
     ]
    }
   ],
   "source": [
    "print(sum(a[1] for a in stat))"
   ]
  },
  {
   "cell_type": "code",
   "execution_count": 59,
   "id": "33077c50b0886233",
   "metadata": {
    "ExecuteTime": {
     "end_time": "2024-10-28T13:17:53.612056Z",
     "start_time": "2024-10-28T13:17:53.604090Z"
    }
   },
   "outputs": [],
   "source": [
    "\n",
    "keys = pd.date_range(\"09:15\", \"14:00\", freq=\"15min\").time\n",
    "positions = dict.fromkeys(tuple(keys), {'call': None, 'put': None, 'null': True, 'entry': False, 'exit': False, 'type': None, 'ent': None, 'ext': None})"
   ]
  }
 ],
 "metadata": {
  "kernelspec": {
   "display_name": "Python 3",
   "language": "python",
   "name": "python3"
  },
  "language_info": {
   "codemirror_mode": {
    "name": "ipython",
    "version": 3
   },
   "file_extension": ".py",
   "mimetype": "text/x-python",
   "name": "python",
   "nbconvert_exporter": "python",
   "pygments_lexer": "ipython3",
   "version": "3.12.1"
  }
 },
 "nbformat": 4,
 "nbformat_minor": 5
}
