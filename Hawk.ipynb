{
 "cells": [
  {
   "cell_type": "code",
   "execution_count": 1,
   "id": "initial_id",
   "metadata": {
    "ExecuteTime": {
     "end_time": "2024-11-21T06:05:44.747275Z",
     "start_time": "2024-11-21T06:05:44.356334Z"
    },
    "collapsed": true
   },
   "outputs": [],
   "source": [
    "import numpy as np\n",
    "import datetime\n",
    "import pandas as pd\n",
    "dt = 'date_timestamp'\n",
    "import psycopg2\n",
    "import pandas as pd;import process as dp;import Functions as fn\n",
    "from pandas.errors import SettingWithCopyWarning;import GeeksCalculator as gk;import importlib;import warnings;importlib.reload(dp)\n",
    "importlib.reload(fn)\n",
    "import Functions_New as fn1\n",
    "importlib.reload(gk);warnings.simplefilter(action='ignore', category=FutureWarning);warnings.simplefilter(action='ignore', category=RuntimeWarning)\n",
    "warnings.simplefilter(action='ignore', category=SettingWithCopyWarning)\n",
    "conn = psycopg2.connect(dbname=\"qdap_test\",user=\"amt\",password=\"amt\",host=\"192.168.2.23\",port=\"5432\")\n",
    "cursor = conn.cursor()"
   ]
  },
  {
   "cell_type": "code",
   "execution_count": 3,
   "id": "c62de0adec2ef443",
   "metadata": {
    "ExecuteTime": {
     "end_time": "2024-11-21T06:40:52.308208Z",
     "start_time": "2024-11-21T06:40:43.513558Z"
    }
   },
   "outputs": [
    {
     "name": "stdout",
     "output_type": "stream",
     "text": [
      "error on 2020-01-01 00:00:00,\n"
     ]
    }
   ],
   "source": [
    "importlib.reload(dp); importlib.reload(fn); importlib.reload(fn1)\n",
    "trades = None\n",
    "ranges = pd.date_range(start='2020-01-01', end='2020-01-01')\n",
    "all_trades = {}\n",
    "for d_t in ranges:\n",
    "    try:\n",
    "        futures = dp.FetchFuturesByDate(cursor,'BANKNIFTY',d_t)\n",
    "        if not futures.empty:\n",
    "            options = dp.FetchOptionsByDateCsv('BANKNIFTY',d_t.date())\n",
    "            gen_call, gen_put = options[options['opt_type'] == 'CE'], options[options['opt_type'] == 'PE']\n",
    "            # call, put = dp.fetch_call_put_(options)\n",
    "            # call.ffill(inplace=True) ; put.ffill(inplace=True)\n",
    "            trades,Plots = fn1.trades(futures,gen_call,gen_put,io=0,gap=5,delta_range=0.1, DeltaUB = 0.5,profit_cap=20,Stop_loss=10)\n",
    "            all_trades[d_t.date()] = trades.copy()\n",
    "            ast = list(Plots.values())\n",
    "            lables = list(map(str,list(Plots.keys())))\n",
    "            dp.plotter(ast,lables)\n",
    "            fn1.TradeSummry(trades)\n",
    "                \n",
    "            with open('_Logs.txt', 'r') as src, open('logs.txt', 'a') as dest:\n",
    "                content = src.read()\n",
    "                dest.write(content)\n",
    "            \n",
    "            with open('trade_logs.txt', 'r') as src, open('all_trade_logs.txt', 'a') as dest:\n",
    "                content = src.read()\n",
    "                dest.write(content)\n",
    "    except:  # Or Exception if you want to handle all exceptions\n",
    "        print(f\"error on {d_t},\")\n",
    "\n",
    "stats = fn.stats_(all_trades)\n",
    "# \n",
    "for a in stats: \n",
    "        print(a[0],a[1])"
   ]
  }
 ],
 "metadata": {
  "kernelspec": {
   "display_name": "Python 3",
   "language": "python",
   "name": "python3"
  },
  "language_info": {
   "codemirror_mode": {
    "name": "ipython",
    "version": 3
   },
   "file_extension": ".py",
   "mimetype": "text/x-python",
   "name": "python",
   "nbconvert_exporter": "python",
   "pygments_lexer": "ipython3",
   "version": "3.12.1"
  }
 },
 "nbformat": 4,
 "nbformat_minor": 5
}
