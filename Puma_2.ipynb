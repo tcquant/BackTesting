{
 "cells": [
  {
   "cell_type": "code",
   "execution_count": 2,
   "id": "initial_id",
   "metadata": {
    "ExecuteTime": {
     "end_time": "2024-10-22T10:36:36.394758Z",
     "start_time": "2024-10-22T10:36:29.631831Z"
    },
    "collapsed": true
   },
   "outputs": [
    {
     "ename": "ImportError",
     "evalue": "cannot import name 'onIronPython' from 'adodbapi.apibase' (C:\\Users\\Tanmay\\AppData\\Roaming\\Python\\Python312\\site-packages\\adodbapi\\apibase.py)",
     "output_type": "error",
     "traceback": [
      "\u001b[1;31m---------------------------------------------------------------------------\u001b[0m",
      "\u001b[1;31mImportError\u001b[0m                               Traceback (most recent call last)",
      "Cell \u001b[1;32mIn[2], line 2\u001b[0m\n\u001b[0;32m      1\u001b[0m \u001b[38;5;28;01mimport\u001b[39;00m \u001b[38;5;21;01mplotly\u001b[39;00m\u001b[38;5;21;01m.\u001b[39;00m\u001b[38;5;21;01mgraph_objects\u001b[39;00m \u001b[38;5;28;01mas\u001b[39;00m \u001b[38;5;21;01mgo\u001b[39;00m\n\u001b[1;32m----> 2\u001b[0m \u001b[38;5;28;01mimport\u001b[39;00m \u001b[38;5;21;01mcopy_\u001b[39;00m \u001b[38;5;28;01mas\u001b[39;00m \u001b[38;5;21;01mcp\u001b[39;00m\n\u001b[0;32m      3\u001b[0m dt \u001b[38;5;241m=\u001b[39m \u001b[38;5;124m'\u001b[39m\u001b[38;5;124mdate_timestamp\u001b[39m\u001b[38;5;124m'\u001b[39m\n\u001b[0;32m      4\u001b[0m \u001b[38;5;28;01mimport\u001b[39;00m \u001b[38;5;21;01mpsycopg2\u001b[39;00m;\u001b[38;5;28;01mimport\u001b[39;00m \u001b[38;5;21;01mpandas\u001b[39;00m \u001b[38;5;28;01mas\u001b[39;00m \u001b[38;5;21;01mpd\u001b[39;00m;\u001b[38;5;28;01mimport\u001b[39;00m \u001b[38;5;21;01mprocess\u001b[39;00m \u001b[38;5;28;01mas\u001b[39;00m \u001b[38;5;21;01mdp\u001b[39;00m;\u001b[38;5;28;01mimport\u001b[39;00m \u001b[38;5;21;01mfunctions_straddle\u001b[39;00m \u001b[38;5;28;01mas\u001b[39;00m \u001b[38;5;21;01mfn\u001b[39;00m;\u001b[38;5;28;01mfrom\u001b[39;00m \u001b[38;5;21;01mpandas\u001b[39;00m\u001b[38;5;21;01m.\u001b[39;00m\u001b[38;5;21;01merrors\u001b[39;00m \u001b[38;5;28;01mimport\u001b[39;00m SettingWithCopyWarning;\u001b[38;5;28;01mimport\u001b[39;00m \u001b[38;5;21;01mGeeksCalculator\u001b[39;00m \u001b[38;5;28;01mas\u001b[39;00m \u001b[38;5;21;01mgk\u001b[39;00m;\u001b[38;5;28;01mimport\u001b[39;00m \u001b[38;5;21;01mimportlib\u001b[39;00m;\u001b[38;5;28;01mimport\u001b[39;00m \u001b[38;5;21;01mwarnings\u001b[39;00m;importlib\u001b[38;5;241m.\u001b[39mreload(dp);importlib\u001b[38;5;241m.\u001b[39mreload(cp);importlib\u001b[38;5;241m.\u001b[39mreload(fn);importlib\u001b[38;5;241m.\u001b[39mreload(gk);warnings\u001b[38;5;241m.\u001b[39msimplefilter(action\u001b[38;5;241m=\u001b[39m\u001b[38;5;124m'\u001b[39m\u001b[38;5;124mignore\u001b[39m\u001b[38;5;124m'\u001b[39m, category\u001b[38;5;241m=\u001b[39m\u001b[38;5;167;01mFutureWarning\u001b[39;00m);warnings\u001b[38;5;241m.\u001b[39msimplefilter(action\u001b[38;5;241m=\u001b[39m\u001b[38;5;124m'\u001b[39m\u001b[38;5;124mignore\u001b[39m\u001b[38;5;124m'\u001b[39m, category\u001b[38;5;241m=\u001b[39m\u001b[38;5;167;01mRuntimeWarning\u001b[39;00m)\n",
      "File \u001b[1;32mc:\\Users\\Tanmay\\Desktop\\BT\\copy_.py:12\u001b[0m\n\u001b[0;32m     10\u001b[0m \u001b[38;5;28;01mimport\u001b[39;00m \u001b[38;5;21;01mplotly\u001b[39;00m\u001b[38;5;21;01m.\u001b[39;00m\u001b[38;5;21;01mio\u001b[39;00m \u001b[38;5;28;01mas\u001b[39;00m \u001b[38;5;21;01mpio\u001b[39;00m\n\u001b[0;32m     11\u001b[0m \u001b[38;5;28;01mfrom\u001b[39;00m \u001b[38;5;21;01mDemos\u001b[39;00m\u001b[38;5;21;01m.\u001b[39;00m\u001b[38;5;21;01mRegCreateKeyTransacted\u001b[39;00m \u001b[38;5;28;01mimport\u001b[39;00m keyname\n\u001b[1;32m---> 12\u001b[0m \u001b[38;5;28;01mfrom\u001b[39;00m \u001b[38;5;21;01madodbapi\u001b[39;00m\u001b[38;5;21;01m.\u001b[39;00m\u001b[38;5;21;01mapibase\u001b[39;00m \u001b[38;5;28;01mimport\u001b[39;00m onIronPython\n\u001b[0;32m     13\u001b[0m \u001b[38;5;28;01mfrom\u001b[39;00m \u001b[38;5;21;01mpandas\u001b[39;00m\u001b[38;5;21;01m.\u001b[39;00m\u001b[38;5;21;01mcore\u001b[39;00m\u001b[38;5;21;01m.\u001b[39;00m\u001b[38;5;21;01mnanops\u001b[39;00m \u001b[38;5;28;01mimport\u001b[39;00m nanmax\n\u001b[0;32m     15\u001b[0m \u001b[38;5;28;01mimport\u001b[39;00m \u001b[38;5;21;01mplotly\u001b[39;00m\u001b[38;5;21;01m.\u001b[39;00m\u001b[38;5;21;01mexpress\u001b[39;00m \u001b[38;5;28;01mas\u001b[39;00m \u001b[38;5;21;01mpx\u001b[39;00m\n",
      "\u001b[1;31mImportError\u001b[0m: cannot import name 'onIronPython' from 'adodbapi.apibase' (C:\\Users\\Tanmay\\AppData\\Roaming\\Python\\Python312\\site-packages\\adodbapi\\apibase.py)"
     ]
    }
   ],
   "source": [
    "import plotly.graph_objects as go\n",
    "import copy_ as cp\n",
    "dt = 'date_timestamp'\n",
    "import psycopg2;import pandas as pd;import process as dp;import functions_straddle as fn;from pandas.errors import SettingWithCopyWarning;import GeeksCalculator as gk;import importlib;import warnings;importlib.reload(dp);importlib.reload(cp);importlib.reload(fn);importlib.reload(gk);warnings.simplefilter(action='ignore', category=FutureWarning);warnings.simplefilter(action='ignore', category=RuntimeWarning)\n",
    "warnings.simplefilter(action='ignore', category=SettingWithCopyWarning)\n",
    "conn = psycopg2.connect(dbname=\"qdap_test\",user=\"amt\",password=\"your_password\",host=\"192.168.2.23\",port=\"5432\")\n",
    "cursor = conn.cursor()"
   ]
  },
  {
   "cell_type": "code",
   "execution_count": 1,
   "id": "7f671a703e92cf39",
   "metadata": {
    "ExecuteTime": {
     "end_time": "2024-10-26T04:13:55.502876Z",
     "start_time": "2024-10-25T12:52:12.908808Z"
    }
   },
   "outputs": [
    {
     "ename": "NameError",
     "evalue": "name 'importlib' is not defined",
     "output_type": "error",
     "traceback": [
      "\u001b[1;31m---------------------------------------------------------------------------\u001b[0m",
      "\u001b[1;31mNameError\u001b[0m                                 Traceback (most recent call last)",
      "Cell \u001b[1;32mIn[1], line 1\u001b[0m\n\u001b[1;32m----> 1\u001b[0m importlib\u001b[38;5;241m.\u001b[39mreload(dp); importlib\u001b[38;5;241m.\u001b[39mreload(fn)\n\u001b[0;32m      2\u001b[0m data \u001b[38;5;241m=\u001b[39m []\n\u001b[0;32m      3\u001b[0m grid \u001b[38;5;241m=\u001b[39m [(\u001b[38;5;241m9\u001b[39m,\u001b[38;5;241m15\u001b[39m),(\u001b[38;5;241m9\u001b[39m,\u001b[38;5;241m30\u001b[39m),(\u001b[38;5;241m9\u001b[39m,\u001b[38;5;241m45\u001b[39m),(\u001b[38;5;241m10\u001b[39m,\u001b[38;5;241m00\u001b[39m),(\u001b[38;5;241m10\u001b[39m,\u001b[38;5;241m15\u001b[39m)]\n",
      "\u001b[1;31mNameError\u001b[0m: name 'importlib' is not defined"
     ]
    }
   ],
   "source": [
    "importlib.reload(dp); importlib.reload(fn)\n",
    "data = []\n",
    "grid = [(9,15),(9,30),(9,45),(10,00),(10,15)]\n",
    "for eh,em in grid:\n",
    "    print(eh,em)\n",
    "    ranges = pd.date_range(start='2020-01-01', end='2024-06-30')\n",
    "    # entry time\n",
    "    tradeid = 0\n",
    "    DGrid = [(0.1,0.55),(0.2,0.55),(0.3,0.55),(0.4,0.55)]\n",
    "    for dl,du in DGrid:\n",
    "        all_trades, all_execs , trade_id = {} , {} ,0\n",
    "        all_running_pnl, all_call_movement, all_put_movement, all_call_iv, all_put_iv = [],[],[],[],[]\n",
    "        list_symbol = ['NIFTY']\n",
    "        for symbol in list_symbol:\n",
    "            all_trades[symbol],all_execs[symbol] = [] , []\n",
    "            for d_t in ranges:\n",
    "                try:\n",
    "                    futures = dp.FetchFuturesByDate(cursor,symbol,d_t)\n",
    "                    if not futures.empty:\n",
    "                        options = dp.FetchOptionsByDateCsv(symbol,d_t.date())\n",
    "                        # print(symbol,str(d_t.date()))\n",
    "                        gen_call, gen_put = options[options['opt_type'] == 'CE'], options[options['opt_type'] == 'PE']\n",
    "                        call, put = dp.fetch_call_put_(options)\n",
    "                        call.ffill(inplace=True) ; put.ffill(inplace=True)\n",
    "                        tradeid,execs, trades, running_pnl, difference, delta_put, delta_call, iv, ivs = fn.generate_trades_syn(trade_id,eh,em,futures, gen_call, gen_put, io=0, buying='open', selling='close', DeltaLB=0.2,delta_range=0.1, DeltaUB = 0.5,initial_capital=100000)\n",
    "                        all_running_pnl.extend(running_pnl);   all_trades[symbol].extend(trades);  all_execs[symbol].extend(execs)\n",
    "                        if len(trades) == 0:\n",
    "                            print(f\"No trades took place on {d_t.date()}\")\n",
    "                except Exception as e:\n",
    "                    print(f\"Error on date {d_t} for symbol {symbol}: {str(e)}\")\n",
    "        \n",
    "        print('EntryTime :',eh,em,'Lower_delta : ',dl,'Upper_delta : ',du)\n",
    "        sharpie, stats = fn.sharpie_straddle(all_trades['NIFTY'])\n",
    "        print(\"sharpie :\",sharpie)\n",
    "        x = fn.calculate_pnl_metrics(stats)\n",
    "        print('monthly_avg_loss',x['monthly_avg_loss'])\n",
    "        print('monthly_avg_profit',x['monthly_avg_profit'])\n",
    "        print('total pnl ',x['total_pnl'])\n",
    "        print('monthly_avg_profit/monthly_avg_loss',x['monthly_avg_profit/monthly_avg_loss'])\n",
    "        print('max_pnl',x['max_pnl'])\n",
    "        print('min_pnl',x['min_pnl'])\n",
    "        print('win_ratio',x['win_ratio'])\n",
    "        data.append({'EntryTime':(eh,em), 'DeltaLB':dl,'DeltaUB':du,'sharpie':sharpie,'mal':x['monthly_avg_loss'],'map':x['monthly_avg_profit'],'total_pnl':x['total_pnl'],'MPL_Ratio':x['monthly_avg_profit/monthly_avg_loss'] , 'max_pnl':x['max_pnl'],'min_pnl':x['min_pnl'],'win_ratio':x['win_ratio']})\n",
    "    "
   ]
  },
  {
   "cell_type": "code",
   "execution_count": 71,
   "id": "c14d3c278043748f",
   "metadata": {
    "ExecuteTime": {
     "end_time": "2024-10-26T05:49:24.970621Z",
     "start_time": "2024-10-26T05:49:24.958538Z"
    }
   },
   "outputs": [],
   "source": [
    "dat = pd.DataFrame(data)\n",
    "dat.to_csv('a.csv')"
   ]
  },
  {
   "cell_type": "code",
   "execution_count": 40,
   "id": "cc530d6f30208c36",
   "metadata": {
    "ExecuteTime": {
     "end_time": "2024-10-24T06:45:33.037735Z",
     "start_time": "2024-10-24T06:45:32.984619Z"
    }
   },
   "outputs": [
    {
     "data": {
      "text/html": [
       "<a href='all exec log.html' target='_blank'>all exec log.html</a><br>"
      ],
      "text/plain": [
       "C:\\Users\\Tanmay\\Desktop\\Files\\all exec log.html"
      ]
     },
     "metadata": {},
     "output_type": "display_data"
    },
    {
     "data": {
      "text/html": [
       "<a href='all trade logs.html' target='_blank'>all trade logs.html</a><br>"
      ],
      "text/plain": [
       "C:\\Users\\Tanmay\\Desktop\\Files\\all trade logs.html"
      ]
     },
     "metadata": {},
     "output_type": "display_data"
    },
    {
     "name": "stdout",
     "output_type": "stream",
     "text": [
      "0.5108112107591711\n"
     ]
    }
   ],
   "source": [
    "pri_ = {'id':1,'time': 1,'opt_type':1,'log':1,'delta':1,'strike': 1, 'price': 1,'pnl': 0, 'trade_type': 1,'transaction_cost': 0, 'slippage': 0,}\n",
    "fn.print_execs_to_html(all_execs['NIFTY'],pri_,filename=f'all exec log.html')\n",
    "\n",
    "columns_to_print = {'entry_time':1 , 'entry_price':1 ,'exit_price':1, 'exit_time' : 1 ,  'time':1 , 'movement': 0, 'type':1 , 'pnl':1,'strike':1,'entry_delta':1,'exit_delta':1,'sell_id':1,'buy_id':1}\n",
    "fn.print_trades_to_html(all_trades['NIFTY'], columns_to_print , filename=f'all trade logs.html')\n",
    "\n",
    "sharpie, stats = fn.sharpie_straddle(all_trades['NIFTY'])\n",
    "print(sharpie)\n"
   ]
  },
  {
   "cell_type": "markdown",
   "id": "9ef68adb24a91f44",
   "metadata": {},
   "source": []
  },
  {
   "cell_type": "code",
   "execution_count": 47,
   "id": "c5ab67743bc1d60a",
   "metadata": {
    "ExecuteTime": {
     "end_time": "2024-10-24T06:56:04.363696Z",
     "start_time": "2024-10-24T06:56:04.356466Z"
    }
   },
   "outputs": [
    {
     "name": "stdout",
     "output_type": "stream",
     "text": [
      "            daily_pnl  daily_capital  daily_return\n",
      "exit_date                                         \n",
      "2020-01-01       2.65            312      0.008494\n"
     ]
    }
   ],
   "source": [
    "print(stats)"
   ]
  },
  {
   "cell_type": "code",
   "execution_count": 41,
   "id": "731cb7a5",
   "metadata": {
    "ExecuteTime": {
     "end_time": "2024-10-24T06:45:37.093887Z",
     "start_time": "2024-10-24T06:45:37.071854Z"
    }
   },
   "outputs": [],
   "source": [
    "sharpie1,stats = fn.sharpie_straddle_Combine(all_trades)"
   ]
  },
  {
   "cell_type": "code",
   "execution_count": 67,
   "id": "300df12a80003978",
   "metadata": {
    "ExecuteTime": {
     "end_time": "2024-10-25T03:43:21.925076Z",
     "start_time": "2024-10-25T03:43:21.914415Z"
    }
   },
   "outputs": [
    {
     "name": "stdout",
     "output_type": "stream",
     "text": [
      "            daily_pnl  daily_capital  daily_return\n",
      "exit_date                                         \n",
      "2020-01-03     -0.804            187     -0.004299\n",
      "2020-01-06      5.687            302      0.018831\n",
      "2020-01-07    -20.792            658     -0.031599\n",
      "2020-01-08     14.165            651      0.021759\n",
      "2020-01-10     -8.111            494     -0.016419\n",
      "...               ...            ...           ...\n",
      "2024-06-21    -34.693           1803     -0.019242\n",
      "2024-06-24     -6.761            644     -0.010498\n",
      "2024-06-25    -16.283            538     -0.030266\n",
      "2024-06-26      0.720            761      0.000946\n",
      "2024-06-28      9.609           1014      0.009476\n",
      "\n",
      "[751 rows x 3 columns]\n"
     ]
    }
   ],
   "source": [
    "print(stats)"
   ]
  },
  {
   "cell_type": "code",
   "execution_count": 43,
   "id": "168453bd",
   "metadata": {
    "ExecuteTime": {
     "end_time": "2024-10-24T06:45:48.101984Z",
     "start_time": "2024-10-24T06:45:48.048536Z"
    }
   },
   "outputs": [
    {
     "name": "stdout",
     "output_type": "stream",
     "text": [
      "monthly_avg_loss -7.713642857142858\n",
      "monthly_avg_profit 10.813318181818182\n",
      "total pnl  16.672999999999995\n",
      "monthly_avg_profit/monthly_avg_loss -1.4018432512473682\n",
      "max_pnl 22.811\n",
      "min_pnl -20.407999999999998\n",
      "win_ratio 1.3\n"
     ]
    }
   ],
   "source": [
    "importlib.reload(dp); importlib.reload(fn)\n",
    "x = fn.calculate_pnl_metrics(stats)\n",
    "print('monthly_avg_loss',x['monthly_avg_loss'])\n",
    "print('monthly_avg_profit',x['monthly_avg_profit'])\n",
    "print('total pnl ',x['total_pnl'])\n",
    "print('monthly_avg_profit/monthly_avg_loss',x['monthly_avg_profit/monthly_avg_loss'])\n",
    "print('max_pnl',x['max_pnl'])\n",
    "print('min_pnl',x['min_pnl'])\n",
    "print('win_ratio',x['win_ratio'])"
   ]
  },
  {
   "cell_type": "code",
   "execution_count": 9,
   "id": "ac0233e1f56232eb",
   "metadata": {
    "ExecuteTime": {
     "end_time": "2024-10-23T05:34:52.080050Z",
     "start_time": "2024-10-23T05:34:52.076115Z"
    }
   },
   "outputs": [],
   "source": [
    "class Trade:\n",
    "    def __init__(self,id,dt,price,strike,tradetype,delta,log):\n",
    "        self.DT = dt\n",
    "        self.ID = id\n",
    "        self.Price = price\n",
    "        self.Strike = strike\n",
    "        self.Delta = delta\n",
    "        self.TradeType = tradetype\n",
    "        self.Log = log"
   ]
  },
  {
   "cell_type": "code",
   "execution_count": 13,
   "id": "33d3ea9e33985fa9",
   "metadata": {
    "ExecuteTime": {
     "end_time": "2024-10-23T05:35:48.096716Z",
     "start_time": "2024-10-23T05:35:48.090177Z"
    }
   },
   "outputs": [
    {
     "name": "stdout",
     "output_type": "stream",
     "text": [
      "7\n"
     ]
    }
   ],
   "source": [
    "ar = []\n",
    "ar.append(Trade(1,2,3,4,5,6,7))\n",
    "print(ar[0].Log)"
   ]
  }
 ],
 "metadata": {
  "kernelspec": {
   "display_name": "Python 3",
   "language": "python",
   "name": "python3"
  },
  "language_info": {
   "codemirror_mode": {
    "name": "ipython",
    "version": 3
   },
   "file_extension": ".py",
   "mimetype": "text/x-python",
   "name": "python",
   "nbconvert_exporter": "python",
   "pygments_lexer": "ipython3",
   "version": "3.12.1"
  }
 },
 "nbformat": 4,
 "nbformat_minor": 5
}
