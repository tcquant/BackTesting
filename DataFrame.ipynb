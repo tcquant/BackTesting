{
 "cells": [
  {
   "cell_type": "code",
   "id": "initial_id",
   "metadata": {
    "collapsed": true,
    "ExecuteTime": {
     "end_time": "2025-03-05T11:13:20.869771Z",
     "start_time": "2025-03-05T11:13:20.621886Z"
    }
   },
   "source": [
    "import importlib;from dbm import error;import ast;from optparse import Option;from time import process_time_ns;import traceback;import time;import pandas as pd;import numpy as np;import warnings;import plotly.graph_objects as go;\n",
    "from pandas.core.interchange.dataframe_protocol import DataFrame\n",
    "from pandas import date_range, notna;from pandas.errors import SettingWithCopyWarning;from plotly.subplots import make_subplots;import functions_straddle as fn;import process as dp;import plotly.io as pio;import psycopg2\n",
    "conn = psycopg2.connect(dbname=\"qdap_test\",user=\"amt\",password=\"amt\",host=\"192.168.2.23\",port=\"5432\")\n",
    "cursor = conn.cursor()\n",
    "importlib.reload(dp); importlib.reload(fn)\n",
    "warnings.simplefilter(action='ignore', category=FutureWarning);warnings.simplefilter(action='ignore', category=RuntimeWarning);warnings.simplefilter(action='ignore', category=SettingWithCopyWarning)\n",
    "dt = 'date_timestamp'"
   ],
   "outputs": [],
   "execution_count": 2
  },
  {
   "metadata": {
    "ExecuteTime": {
     "end_time": "2025-03-05T11:57:56.630210Z",
     "start_time": "2025-03-05T11:57:56.533001Z"
    }
   },
   "cell_type": "code",
   "source": "df = dp.FetchFuturesByDate(cursor,'BANKNIFTY','2020-01-01')",
   "id": "f00912824215aa9e",
   "outputs": [],
   "execution_count": 46
  },
  {
   "metadata": {
    "ExecuteTime": {
     "end_time": "2025-03-05T12:09:54.845725Z",
     "start_time": "2025-03-05T12:09:54.804730Z"
    }
   },
   "cell_type": "code",
   "source": "",
   "id": "6033319ee03b83e8",
   "outputs": [
    {
     "ename": "TypeError",
     "evalue": "'numpy.ndarray' object is not callable",
     "output_type": "error",
     "traceback": [
      "\u001B[1;31m---------------------------------------------------------------------------\u001B[0m",
      "\u001B[1;31mTypeError\u001B[0m                                 Traceback (most recent call last)",
      "Cell \u001B[1;32mIn[56], line 1\u001B[0m\n\u001B[1;32m----> 1\u001B[0m \u001B[43mdf\u001B[49m\u001B[38;5;241;43m.\u001B[39;49m\u001B[43mvalues\u001B[49m\u001B[43m(\u001B[49m\u001B[43m)\u001B[49m\n",
      "\u001B[1;31mTypeError\u001B[0m: 'numpy.ndarray' object is not callable"
     ]
    }
   ],
   "execution_count": 56
  }
 ],
 "metadata": {
  "kernelspec": {
   "display_name": "Python 3",
   "language": "python",
   "name": "python3"
  },
  "language_info": {
   "codemirror_mode": {
    "name": "ipython",
    "version": 2
   },
   "file_extension": ".py",
   "mimetype": "text/x-python",
   "name": "python",
   "nbconvert_exporter": "python",
   "pygments_lexer": "ipython2",
   "version": "2.7.6"
  }
 },
 "nbformat": 4,
 "nbformat_minor": 5
}
