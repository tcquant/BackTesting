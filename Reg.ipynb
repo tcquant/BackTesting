{
 "cells": [
  {
   "cell_type": "code",
   "execution_count": 5,
   "id": "initial_id",
   "metadata": {
    "ExecuteTime": {
     "end_time": "2024-11-05T11:02:13.759453Z",
     "start_time": "2024-11-05T11:02:13.591360Z"
    },
    "collapsed": true
   },
   "outputs": [],
   "source": [
    "import matplotlib.pyplot as plt\n",
    "from sklearn.linear_model import LinearRegression\n",
    "import numpy as np\n",
    "import pandas as pd\n",
    "import plotly.graph_objects as go\n",
    "from sklearn.linear_model import LinearRegression\n",
    "dt = 'date_timestamp'\n",
    "import psycopg2;import pandas as pd;import process as dp;import Functions as fn\n",
    "from pandas.errors import SettingWithCopyWarning;import GeeksCalculator as gk;import importlib;import warnings;importlib.reload(dp)\n",
    "importlib.reload(fn)\n",
    "importlib.reload(gk);warnings.simplefilter(action='ignore', category=FutureWarning);warnings.simplefilter(action='ignore', category=RuntimeWarning)\n",
    "warnings.simplefilter(action='ignore', category=SettingWithCopyWarning)\n",
    "conn = psycopg2.connect(dbname=\"qdap_test\",user=\"amt\",password=\"amt\",host=\"192.168.2.23\",port=\"5432\")\n",
    "cursor = conn.cursor()\n",
    "\n"
   ]
  },
  {
   "cell_type": "code",
   "execution_count": 18,
   "id": "a766baece4c37ab8",
   "metadata": {
    "ExecuteTime": {
     "end_time": "2024-11-07T11:18:33.151877Z",
     "start_time": "2024-11-07T11:18:32.859609Z"
    }
   },
   "outputs": [],
   "source": [
    "import numpy as np\n",
    "import pandas as pd\n",
    "from sklearn.linear_model import LinearRegression\n",
    "from sklearn.metrics import mean_squared_error\n",
    "import matplotlib.pyplot as plt\n",
    "\n",
    "# Replace this with your actual data\n",
    "data = pd.Series([1, -1, 1, -1, 1, -1, 1, -1, 1, -1, 1, -1, 1, -1, 1, -1, 1, -1, 1, -1, 1, -1, 1, -1, 1, -1, 1, -1, 1, -1, 1, -1, 1, -1, 1, -1, 1])\n",
    "\n",
    "def rms(dt,window):\n",
    "    data = dt[-min(len(dt),window):-1]\n",
    "    X = np.arange(len(data)).reshape(-1, 1)  # Independent variable\n",
    "    y = data.values  # Dependent variable\n",
    "\n",
    "# Initialize and fit the Linear Regression model\n",
    "    model = LinearRegression()\n",
    "    model.fit(X, y)\n",
    "\n",
    "    # Predict values for the trend line\n",
    "    predicted = model.predict(X)\n",
    "\n",
    "    # Calculate Slope of the Line\n",
    "    return model.coef_[0],np.sqrt(mean_squared_error(y, predicted))\n",
    "    \n",
    "   \n"
   ]
  },
  {
   "cell_type": "code",
   "execution_count": 23,
   "id": "0351fb00",
   "metadata": {},
   "outputs": [
    {
     "name": "stdout",
     "output_type": "stream",
     "text": [
      "(np.float64(0.10000000000000005), np.float64(1.3597399555105182e-16))\n"
     ]
    }
   ],
   "source": [
    "serite = pd.Series([1.1,1.2,1.3,1.4,1.5,1.6,1.7,1.8,1.9])\n",
    "\n",
    "print(rms(serite,79))"
   ]
  },
  {
   "cell_type": "code",
   "execution_count": 9,
   "id": "e23b0a3aea56eae6",
   "metadata": {
    "ExecuteTime": {
     "end_time": "2024-11-05T11:50:07.803086Z",
     "start_time": "2024-11-05T11:50:06.864101Z"
    }
   },
   "outputs": [
    {
     "data": {
      "text/plain": [
       "<Figure size 1200x600 with 0 Axes>"
      ]
     },
     "metadata": {},
     "output_type": "display_data"
    }
   ],
   "source": [
    "import numpy as np\n",
    "import pandas as pd\n",
    "import matplotlib.pyplot as plt\n",
    "from sklearn.linear_model import LinearRegression\n",
    "\n",
    "# Assuming `data` is your time series data in a pandas Series\n",
    "# Define the window size for the rolling regression\n",
    "n = 50  # Replace with your desired window size\n",
    "\n",
    "# Create a function to calculate the slope of a linear regression for a given window\n",
    "def calculate_slope(y):\n",
    "    X = np.arange(len(y)).reshape(-1, 1)  # Time indices as independent variable\n",
    "    model = LinearRegression().fit(X, y)\n",
    "    return model.coef_[0]  # The slope (coefficient) of the regression line\n",
    "\n",
    "# Apply rolling window to calculate slope over the last `n` timestamps\n",
    "slopes = data.rolling(window=n).apply(calculate_slope, raw=False)\n",
    "\n",
    "# Plot the original data and the slope values\n",
    "plt.figure(figsize=(12, 6))\n",
    "\n",
    "fig = go.Figure()\n",
    "\n",
    "dp.plotter([slopes,data])\n"
   ]
  }
 ],
 "metadata": {
  "kernelspec": {
   "display_name": "Python 3",
   "language": "python",
   "name": "python3"
  },
  "language_info": {
   "codemirror_mode": {
    "name": "ipython",
    "version": 3
   },
   "file_extension": ".py",
   "mimetype": "text/x-python",
   "name": "python",
   "nbconvert_exporter": "python",
   "pygments_lexer": "ipython3",
   "version": "3.12.1"
  }
 },
 "nbformat": 4,
 "nbformat_minor": 5
}
