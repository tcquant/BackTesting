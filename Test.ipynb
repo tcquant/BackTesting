{
 "cells": [
  {
   "cell_type": "code",
   "id": "initial_id",
   "metadata": {
    "collapsed": true,
    "ExecuteTime": {
     "end_time": "2024-09-27T04:21:04.809914Z",
     "start_time": "2024-09-27T04:21:04.549179Z"
    }
   },
   "source": [
    "import importlib\n",
    "import warnings\n",
    "import plotly.graph_objects as go\n",
    "from pandas.errors import SettingWithCopyWarning\n",
    "from plotly.subplots import make_subplots\n",
    "import functions_straddle as fn\n",
    "import process as dp\n",
    "import plotly.io as pio\n",
    "import psycopg2\n",
    "\n",
    "conn = psycopg2.connect(dbname=\"qdap_test\",user=\"amt\",password=\"your_password\",host=\"192.168.2.23\",port=\"5432\"  )\n",
    "cursor = conn.cursor()\n",
    "importlib.reload(dp); importlib.reload(fn)\n",
    "warnings.simplefilter(action='ignore', category=FutureWarning);warnings.simplefilter(action='ignore', category=RuntimeWarning)\n",
    "warnings.simplefilter(action='ignore', category=SettingWithCopyWarning)\n",
    "dt = 'date_timestamp'"
   ],
   "outputs": [],
   "execution_count": 11
  },
  {
   "metadata": {},
   "cell_type": "code",
   "outputs": [],
   "execution_count": null,
   "source": "",
   "id": "1f22d030244e60f9"
  },
  {
   "metadata": {
    "ExecuteTime": {
     "end_time": "2024-09-27T04:04:32.266215Z",
     "start_time": "2024-09-27T04:04:32.163861Z"
    }
   },
   "cell_type": "code",
   "source": "options = dp.FetchOptionsByDateCsv('BANKNIFTY','2020-01-01')",
   "id": "7fb1c4ff6baa2d23",
   "outputs": [],
   "execution_count": 10
  },
  {
   "metadata": {
    "ExecuteTime": {
     "end_time": "2024-10-01T06:05:00.442860Z",
     "start_time": "2024-10-01T06:04:59.714282Z"
    }
   },
   "cell_type": "code",
   "source": [
    "cy = dp.filter_dataframe(options,{'strike':32300,'opt_type':'CE'})\n",
    "py = dp.filter_dataframe(options,{'strike':32200,'opt_type':'PE'})\n",
    "\n",
    "st = [py['iv'].to_list(),py['delta'].to_list(),[(a['date_timestamp'],a['close']) for i,a in py.iterrows()],cy['iv'].to_list(),cy['delta'].to_list(),[(a['date_timestamp'],a['close']) for i,a in cy.iterrows()]]\n",
    "dp.plotter(st,['piv','pdelta','pprice','civ','cdelta','cprice','d'])"
   ],
   "id": "ed00ff99dae0769",
   "outputs": [],
   "execution_count": 94
  },
  {
   "metadata": {
    "ExecuteTime": {
     "end_time": "2024-10-01T06:25:41.288891Z",
     "start_time": "2024-10-01T06:25:41.277318Z"
    }
   },
   "cell_type": "code",
   "source": "",
   "id": "c71c46e14165eb88",
   "outputs": [
    {
     "name": "stdout",
     "output_type": "stream",
     "text": [
      "[10 10 11 12 13 14]\n"
     ]
    }
   ],
   "execution_count": 95
  }
 ],
 "metadata": {
  "kernelspec": {
   "display_name": "Python 3",
   "language": "python",
   "name": "python3"
  },
  "language_info": {
   "codemirror_mode": {
    "name": "ipython",
    "version": 2
   },
   "file_extension": ".py",
   "mimetype": "text/x-python",
   "name": "python",
   "nbconvert_exporter": "python",
   "pygments_lexer": "ipython2",
   "version": "2.7.6"
  }
 },
 "nbformat": 4,
 "nbformat_minor": 5
}
